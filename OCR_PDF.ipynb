{
 "cells": [
  {
   "cell_type": "markdown",
   "id": "8e3f4fbe-407b-4054-a259-261b3b537721",
   "metadata": {},
   "source": [
    "Tesseract installation\n",
    "Source: https://orcacore.com/install-tesseract-ocr-ubuntu-22-04/\n"
   ]
  },
  {
   "cell_type": "markdown",
   "id": "c00d33e1-798a-45f9-b5e2-4f4075bfdd21",
   "metadata": {},
   "source": [
    "Source: https://python.plainenglish.io/convert-scanned-files-to-searchable-pdf-using-python-and-pytesseract-3ee31ee6f01fhttps://python.plainenglish.io/convert-scanned-files-to-searchable-pdf-using-python-and-pytesseract-3ee31ee6f01f\n",
    "pip install pdf2image\n",
    "pip install pytesseract\n",
    "pip install PyPDF2"
   ]
  },
  {
   "cell_type": "code",
   "execution_count": null,
   "id": "770bf41d-8356-4b04-972d-a486967ef723",
   "metadata": {},
   "outputs": [],
   "source": [
    "pip install tabula-py\n",
    "pip install tabula-py\n",
    "pip install tabulate\n",
    "pip install camelot-py"
   ]
  },
  {
   "cell_type": "code",
   "execution_count": 56,
   "id": "456039df-8f7d-4cb3-8620-5d7f9fb19df7",
   "metadata": {},
   "outputs": [],
   "source": [
    "# import libs\n",
    "import pytesseract\n",
    "from pytesseract import Output\n",
    "from PIL import Image\n",
    "import pandas as pd\n",
    "from pdf2image import convert_from_path\n",
    "import PyPDF2\n",
    "import cv2\n",
    "import io\n",
    "import os\n",
    "import tabula\n",
    "import tabulate\n",
    "import camelot.io as camelot"
   ]
  },
  {
   "cell_type": "markdown",
   "id": "6293bf4f-27a6-430a-943b-daa1d43c75c4",
   "metadata": {},
   "source": [
    " # 1 Convert scanned PDF page(s) to single search PDF"
   ]
  },
  {
   "cell_type": "code",
   "execution_count": 10,
   "id": "6c0f2162-27d8-492d-9a6e-1f375b55f8c1",
   "metadata": {},
   "outputs": [],
   "source": [
    "\n",
    "file=r'/home/frederic/Documents/Python/SDG/Github Clone/Python-Public/TEST_OCR/2019_2020_Reg.pdf'\n",
    "images = convert_from_path(file)\n",
    "pdf_writer = PyPDF2.PdfFileWriter()"
   ]
  },
  {
   "cell_type": "code",
   "execution_count": 11,
   "id": "2da2e695-a8b1-4475-8412-ba27e2ef7a3c",
   "metadata": {},
   "outputs": [],
   "source": [
    "# Convert a screened pdf '2019_2020_Reg.pdf' into a searchable pdf called 'searchable.pdf'\n",
    "for image in images:\n",
    "    page = pytesseract.image_to_pdf_or_hocr(image, extension='pdf')\n",
    "    pdf = PyPDF2.PdfFileReader(io.BytesIO(page))\n",
    "    pdf_writer.addPage(pdf.getPage(0))# export the searchable PDF to searchable.pdf\n",
    "with open(\"searchable.pdf\", \"wb\") as f:\n",
    "    pdf_writer.write(f)"
   ]
  },
  {
   "cell_type": "markdown",
   "id": "14cfbb83-c840-4e2e-aa94-81f8e00a3fc0",
   "metadata": {},
   "source": [
    "## Extract pdf tables"
   ]
  },
  {
   "cell_type": "code",
   "execution_count": null,
   "id": "c9942c49-2c66-4c8c-9cb5-f4df5428b13f",
   "metadata": {},
   "outputs": [],
   "source": [
    "from tabula import read_pdf\n",
    "file=r'/home/frederic/Documents/Python/SDG/Github Clone/Python-Public/TEST_OCR/2042_3926.pdf'\n",
    "df = read_pdf(file,pages='all')\n",
    "df"
   ]
  },
  {
   "cell_type": "markdown",
   "id": "cc20e9a0-2752-4126-aa9e-cc93e9cc4ebd",
   "metadata": {},
   "source": [
    "# 2 Convert an Image to Searchable PDF"
   ]
  },
  {
   "cell_type": "code",
   "execution_count": 9,
   "id": "5038acdf-ba1e-454b-8217-77a873a33f9e",
   "metadata": {},
   "outputs": [],
   "source": [
    "# Receipt.png file to 'searchable' pdf file\n",
    "file=r'/home/frederic/Documents/Python/SDG/Github Clone/Python-Public/TEST_OCR/Img_Test.jpg'\n",
    "PDF = pytesseract.image_to_pdf_or_hocr(file, extension='pdf')# export to searchable.pdf\n",
    "with open(\"searchable.pdf\", \"w+b\") as f:\n",
    "    f.write(bytearray(PDF))"
   ]
  },
  {
   "cell_type": "markdown",
   "id": "11672119-1cce-4278-96ff-a011f0215831",
   "metadata": {},
   "source": [
    "# 3 Convert Multiple Images in the same folder to a Single searchable PDF"
   ]
  },
  {
   "cell_type": "code",
   "execution_count": null,
   "id": "f6e76f3b-8145-4c83-9344-574c74712b76",
   "metadata": {},
   "outputs": [],
   "source": [
    "all_files = []\n",
    "for (path,dirs,files) in os.walk('images_folder'):\n",
    "    for file in files:\n",
    "        file = os.path.join(path, file)\n",
    "        all_files.append(file)pdf_writer = PyPDF2.PdfFileWriter()\n",
    "for file in all_files:\n",
    "    page = pytesseract.image_to_pdf_or_hocr(file, extension='pdf')\n",
    "    pdf = PyPDF2.PdfFileReader(io.BytesIO(page))\n",
    "    pdf_writer.addPage(pdf.getPage(0))\n",
    "    \n",
    "with open(\"searchable.pdf\", \"wb\") as f:\n",
    "    pdf_writer.write(f)"
   ]
  },
  {
   "cell_type": "code",
   "execution_count": null,
   "id": "51ec1238-ffbe-4a2a-a879-adad092c1c52",
   "metadata": {},
   "outputs": [],
   "source": []
  },
  {
   "cell_type": "code",
   "execution_count": null,
   "id": "0522f671-9796-44fd-9a86-17059f883c6a",
   "metadata": {},
   "outputs": [],
   "source": [
    "file=r'/home/frederic/Documents/Python/SDG/Github Clone/Python-Public/TEST_OCR/Img_Test.jpg'\n",
    "text = pytesseract.image_to_data(file, lang=\"eng\", config=\"--psm 6\")"
   ]
  },
  {
   "cell_type": "code",
   "execution_count": null,
   "id": "dc2604ec-e916-4d08-bddd-926ed5ef2342",
   "metadata": {},
   "outputs": [],
   "source": [
    "# Select image file\n",
    "file=r'/home/frederic/Documents/Python/SDG/Github Clone/Python-Public/TEST_OCR/2042_3926.pdf'\n",
    "\n",
    "custom_config = r'-c preserve_interword_spaces=1 --oem 1 --psm 1 -l eng+ita'\n",
    "d = pytesseract.image_to_data(Image.open(file), config=custom_config, output_type=Output.DICT)\n",
    "df = pd.DataFrame(d)\n",
    "df1 = df[(df.conf!='-1')&(df.text!=' ')&(df.text!='')]\n",
    "df1"
   ]
  },
  {
   "cell_type": "code",
   "execution_count": 8,
   "id": "f0c00681-dd46-406f-9398-7c13f49d0c99",
   "metadata": {},
   "outputs": [
    {
     "name": "stdout",
     "output_type": "stream",
     "text": [
      "\n",
      "          Tax ID:   — 833135690               EPC  Draft  #:   248462895                      _                 Payment   Date:    02/16/2022                             Page 2 of   179 \n",
      "     | Patient: ers                                                        Insured:  19ers,                                         Payor Claim #: 2203205CZ400 \n",
      "      Patient Acct #: 141281V19801                                         Product Name:   OH-Medicaid \n",
      "      Rendering  Provider: Quick Med  Urgent Care LLC                      Status: Processed as Primary \n",
      "        Service  | Procedures( | Units)   Total        Allowed  |  Pemider Dios! | Once Plan  |    Other               Patient Oblivation              Net Payment | Adjustment | Remark \n",
      "         Date      Modifiers)            Charge     |  Amount              “     Pavment (COM) | Adjustment | Co-ins |  Co-Pay |  Deductible | Non-Cov | Amount      Reason               7 \n",
      "      1/15/21    | 9920K(SA)   |   1       $120.00         $0.00        $120.00         $0.00 |       $0.00}    $0.00     $0.00}     $0.00      $0.00       $0.00 |     cole          MSI \n",
      "     uis21       | 87426(SA)   |           $250.00        $35.33        $214.67 |       $0.00         $0.00     $0.00}    0.00}     $0.00 |     $0.00      $35.33       co4s         N381 \n",
      "                          Total:     |      $370.00        $35.33      $334.67  |      $0.00           $0.00)   $0.00     $0.00      $0.00,     $0.00       $35.33 \n",
      "      Paticn eee                                                           Insured: | net                  tr                      Payor  Claim #: 22032069ZB00 \n",
      "      Patient Acct #: 142522V19801                                         Product Name:   OH-Medicaid \n",
      "      Rendering  Provider: Quick Med  Urgent Care LLC                      Status: Processed as Primary \n",
      "                                                                                                                                                                                           | \n",
      "        Service  | Procedures( | Units)   Total        Allowed  |  PrniiecDicoum | Other Pian     Other                Patient Oblivation              Net Payment | Adjustment | Remark   | \n",
      "         Date       Modifiers)           Charge        Amount        (eaten)   | pavment CoB) | Adjustment  | Co-tns    Co-Pay | Deductible | NonmCov  _Amount       Reason \n",
      "      11/29/21    99212(SA)       '         $85.00        $26.73         $58.27 |      $0.00          $0.00     $0.00 |   $0.00     $0.00       $0.00      $26.73       Coss         N38] \n",
      "      11/29/21     87426QW.   |   |        $250.00        $35.33        $214.67 |      $0.00          $0.00}    $0.00}    $0.00}    $0.00       $0.00      $35.33       co4s         N381 \n",
      "                   SA)        i                                                | \n",
      "                          Total:            $335.00]      $62.06       $272.94 |       $0.00          $0.00]    $0.00,    $0.00]     $0.00      $0.00      $62.06 \n",
      "      Patient: COSA                                                        Insured: teatime                                        Payor  Claim #: 2203304EF700                7 \n",
      "      Patient Acct # qj                                                    Product Name:  OH-Medicaid \n",
      "      Rendering  Provider: 1538765243-Elizabeth E Reeves Cim               Status: Processed as Primary \n",
      "     L \n",
      "        Service  | Procedures( | Units)   Total        Allowed    | Presider Discount | Geyer Plan Other               Patient Obligation             Net Payment | Adjustment | Remark \n",
      "         Date       Modifiers)           Charge        Amount     |     \"|       pamentscom  |  Adjustment |  co-ins |  Co-Pav  | Deductible] NomCov    ‘Avaouat     Reason                | \n",
      "     01/05/22      99213(SA)      1        $110.00  |     $43.61  |      $66.39        $0.00          $0.00}    $0.00)    $0.00}    $0.00       $0.00      $43.61       co4s         N381 \n",
      "    | 01/05/22     87426(SA)      1        $250.00        $35.33  |     $214.67        30.00          30,00}    $0.00}    $0.00)    $0.00       $0.00)     $35.33       co4s         N381 \n",
      "                          Total:            $360.00       $78.94       $281.06         $0.00          $0.00,    $0.00)    $0.00)     $0.00      $0.0       $78.94 \n",
      "      Patient: gis                                                         Insured: | QS ncaaatameeeaemasies                       Payor Claim  #: 2203904UF700 \n",
      "      Patient Acct #: Cae                                                  Product  Name: OH-Medicaid \n",
      "      Rendering  Provider: 1538765243-Elizabeth E Reeves Cim               Status: Processed as Primary \n",
      "       Service     Procedures( | Units    Total        Allowed     Seavises Discount Other Plan   Other              _ Patient Oblieation              Net Payment | Adjustment — Remark \n",
      "         Date      Modifiers)            Charge        Amount        (raters) |  payment (COB) | Adjustment | Co-ins |  Co-Pay | Deductible | Nom-Cov    Amount      Reason \n",
      "     01/05/22      99213(8A)   |  I        $110.00         $0.00        $110.00        $0.00          $0.00 |   $0.00)    $0.00}    $0.00       $0.00       $0.00 |     cois  | \n",
      "     01/05/22      87426(SA)      1        $250.00         $0.00        $250.00        $0.00          $0.00}    $0.00}  — sv.00|    $0.00       $0.00       $0.00       cols  | \n",
      "                          Total:            $360.00         $0.00 |    $360.00 |       $0.00          $0.00]    $0.00,    $0.00|     $0.00]     $0.00]      $0.00] \n",
      "     | Patent:                                                             Insured: | CAAReAoee       TAC                          Payor  Claim #: 220450591200 \n",
      "     | Patient Acct #; 159367V 19801                                       Product Name:   OH-Medicaid \n",
      "      Rendering  Provider: 1407952195-MELANIE     DAWN   ROL               Status: Processed as Primary \n",
      "        Service  | Procedures( | Units|   Total        Allowed    | Frvier Dicom’ | Orner Plan “|  Other         ____  Patient Obligation              Net Payment | Adjustment | Remark \n",
      "         Date       Modifiers)           Charge        Amount        (Wieatewes) | psementccoony | Adjustment | Coan |  cGe-Pav | Deducube| NowCoy   |   ‘Amount |   Reasoa \n",
      "    |12/26/21      992128A)    |  1         385.00  |      $0.00         $85.00        $0.00  |       $0.00}    $0.00     $0.00}    $0.00       $0.00 |     $0.00       cols         R23) \n",
      "      12/26/21   | 87426(QW.      1         250,           $0.00                        $0.00         $0.00    $0.00      $0.00 |   $0.00       $0.00       $0.00 |     cole         N823 \n",
      "     |           | say         |                                |                                                            _| \n",
      "                          Total:            $335.00         $0.00|     $335.00         $0.00                              $0.00]     $0.00/     $0.00,       $0.00 \n",
      "      Paticnt: QAR                                                         Insure    soszzeqsadossummer   Anker                    Payor  Claim #: 2203303MF300 \n",
      "      Patient Acct #: 167873V19801                                         Product Name:   OH-Medicaid \n",
      "      Rendering  Provider: 1457961856-Debra  A Wrenn                       Status: Processed as Primary \n",
      "        Service  | Procedures( | Units)   Total        Allowed  — | Provider Drown | Omer plan |   Other  |            Patient Oblivation              Net Payment | Adjustment | Remark \n",
      "         Date       Modifiers)           Charge       | Amount       (Miettewes? | pavment Cow | Adjustment | Co-tns |  Co-Pay | Deductible | Nom-Cov    ‘Amount  |  Reason   | \n",
      "     01/25/22      99213(SA)       1       $110.00        $43.61         366.39         $0.00         $0.00}    $0.00]  — s0.00}    $0.00       $0.00      $43.61       C045  |      N381 \n",
      "                          Total:            $110.00        $43.61       $66.39  |       $0.00          $0.00{   $0.00,    $0.00]     $0.00]     $0.00,      _—$43.61| \n",
      "     | Paticnt: Soares.                                                    Insured: qiug    ora                                    Payor  Claim #: 220310727X00 \n",
      "      Patient Acct #: ggiamiienay?                                         Product Name:   OH-Medicaid \n",
      "      Rendering  Provider: Quick Med  Urgent Care LLC                      Status: Processed as Primary \n",
      "     |  Service  | Procedures( | Units|   Total        Allowed — | Prnider Dwcount | Gener Plan | Other                Patient Obligation              Net Payment | Adjustinent | Remark \n",
      "     |   Date       Modiflers)           Charge        Amount        meters’)   | Pavment icon) | Adjustment | Co-tns | Co-Pay   Deductible | Non-Cov    Amount      Reason \n",
      "\n",
      "\n",
      "ou eS \n",
      "\n"
     ]
    }
   ],
   "source": [
    "# clean up blanks\n",
    "df1 = df[(df.conf!='-1')&(df.text!=' ')&(df.text!='')]\n",
    "# sort blocks vertically\n",
    "sorted_blocks = df1.groupby('block_num').first().sort_values('top').index.tolist()\n",
    "for block in sorted_blocks:\n",
    "    curr = df1[df1['block_num']==block]\n",
    "    sel = curr[curr.text.str.len()>3]\n",
    "    char_w = (sel.width/sel.text.str.len()).mean()\n",
    "    prev_par, prev_line, prev_left = 0, 0, 0\n",
    "    text = ''\n",
    "    for ix, ln in curr.iterrows():\n",
    "        # add new line when necessary\n",
    "        if prev_par != ln['par_num']:\n",
    "            text += '\\n'\n",
    "            prev_par = ln['par_num']\n",
    "            prev_line = ln['line_num']\n",
    "            prev_left = 0\n",
    "        elif prev_line != ln['line_num']:\n",
    "            text += '\\n'\n",
    "            prev_line = ln['line_num']\n",
    "            prev_left = 0\n",
    "\n",
    "        added = 0  # num of spaces that should be added\n",
    "        if ln['left']/char_w > prev_left + 1:\n",
    "            added = int((ln['left'])/char_w) - prev_left\n",
    "            text += ' ' * added \n",
    "        text += ln['text'] + ' '\n",
    "        prev_left += len(ln['text']) + added + 1\n",
    "    text += '\\n'\n",
    "    print(text)"
   ]
  },
  {
   "cell_type": "code",
   "execution_count": 65,
   "id": "73a73fd9-db89-41b6-9cdf-51dc1f5d52b7",
   "metadata": {},
   "outputs": [
    {
     "name": "stdout",
     "output_type": "stream",
     "text": [
      "2042 Impression: PARAGON 2021TIR195 115521\n",
      "\n",
      "1 1 TRAITEMENTS, SALAIRES, PENSIONS, RENTES\n",
      "\n",
      "TRAITEMENTS, SALAIRES                                                     DECLARANT 1                      DECLARANT 2                      18§ PERS. A CHARGE               2° PERS. A CHARGE\n",
      "Traitements et salaires 0c TAJU 1B), SS, WS1D)\n",
      "Revenus des salariés des particuliers employeurs ......... TAAL IBA, 1A,1DA\n",
      "Abattement forfaitaire Assistants maternels/familiaux. Journalistes. GA|__ THA;| ee1JA\n",
      "Heures supplémentaires exonérées oe. 1GH|_ Cd, THH|WHEL,1JH\n",
      "Revenus des associés et gérants article 62 du CGI ........ ...... 1GB| THB|WBi1JB\n",
      "Droits d’auteur, fonctionnaires chercheurs.................. 00.0...1GFL THFL VFL, 1)F\n",
      "Autres revenus imposables chémage préretraite................ TAPL_ 1BPL 1CP{|_1DP\n",
      "Salaires percus par les non-résidents et salaires de source\n",
      "\n",
      "étrangere avec crédit d’impot égal a l’impét francais.......TAF|1BFLsr 1DF\n",
      "Autres salaires imposables de source étrangére............. TAG] = Cd, 1BG| Gi,1DG\n",
      "Frais réels joignez Ia liste détaillée sur papier libre.............0.....  TAK, 1BKL  1K,1DK\n",
      "PENSIONS, RETRAITES, RENTES                                             DECLARANT 1                      DECLARANT 2                      1— PERS. A CHARGE               2® PERS. A CHARGE\n",
      "Pensions, retraites et rentes 00.TAS, 1BS|WSL 1DS\n",
      "Pensions de retraite en capital taxables 4 7,5%..............TAT)1BTLer 1DT\n",
      "Pensions en capital des plans d’épargne retraite... 2... TAIL, 1BIL Wj,1D!\n",
      "Pensions d’invalidité 2.000.000TAZ,1BZ|zi 1DZ\n",
      "PeRSIGnSealliin ental MES DONG Caer wena yee raya TAO, WBO CS1D0\n",
      "Pensions percues par les non-résidents et pensions de source\n",
      "\n",
      "étrangere avec crédit d’impot égal a l’impét francais.......TALL),IBLEbi, 1DL\n",
      "Autres pensions imposables de source étrangére...........TAM_1BML_—C—“C—srCWC*CWC(CS1M 1DM\n",
      "\n",
      "RENTES VIAGERES A TITRE ONEREUX\n",
      "\n",
      "Montant percu par le foyer par dge dentrée en jouissance                     moins de 50 ans                  de 50a 59 ans                    de 60 a 69 ans                    dG partir de 70 ans\n",
      "Rentes PEMCUeS 2TAW|, 1BW|wl sd 1DW\n",
      "\n",
      "Rentes percues par les non-résidents et rentes de source\n",
      "\n",
      "étrangere avec crédit d’impdét égal a l’impét francais ...... TARL IBRL foe Cd1DR\n",
      "\n",
      "2 | REVENUS DE CAPITAUX MOBILIERS\n",
      "\n",
      "Produits des bons et contrats de capitalisation et d’assurance-vie de 8 ans et plus\n",
      "- produits des versements effectués avant le 27.9.2017\n",
      "\n",
      "- produits soumis au prélevement libératoire cen cee bbb bbb bbb bbb ttt tt bt etteeteer es2DH\n",
      "\n",
      "Be AINGS: POU Scores ete pete ee a reeey eee Pk e rare ney ee eae cere ae eee ec se cee eee ee eee2CH\n",
      "- produits des versements effectués a compter du 27.9.2017\n",
      "\n",
      "- produits imposables a 7,5 % produits correspondant aux primes n’excédant Pas 150 000€ 2.00... beets2VV\n",
      "\n",
      "- produits imposables a 12,8 % produits correspondant aux primes excEdant 150 000€ 0.0... ence bees 2WW\n",
      "\n",
      "Produits des bons et contrats de capitalisation et d’assurance-vie de moins de 8 ans\n",
      "- produits des versements effectués avant le 27.9.2017\n",
      "\n",
      "SSKTC UES: SOUNMIS AU) PLelE VENOM IIDGIALOING sxeem. yearn. gcse see eaten yee ot ec ee eee ee 2XX\n",
      "\n",
      "STUIEHES: (UOMO rye cree crcey ren cence ree conor en ore one Coke Go RESTA CU Vsto RRte CPN AUT pe Pe SPA ona SER ECR VEE rete Per OVO Reenter ae aie eee TIE 2YY\n",
      "- produits des versements effectués a compter dU 27.9.2017 000 e nee271\n",
      "Revenus des actions et parts Abattement de 40% si Option DOPEME 0... bebe nent nee2DC\n",
      "Dividendes imposables des titres non cotés détenus dans le PEA ou le PEA-PME..... 0.0.0.0 c cece eee c eect et et vette ett bte vette etenee: 2FU\n",
      "Autres revenus distribués et assimilés. bbb btn birt etn ene27S\n",
      "Intéréts et autres produits de placement a freVeNU fIXC ene e nee 2TR\n",
      "FGETE IS eS ECS MARGINS TEUGES, (NATIT S wxseers-ancnte aera orer messes -ctrenrsr career? mre oer rare pre rer eo Are ere SE P2T ORS PIPE BRO RSS211\n",
      "Intéréts imposables des obligations remboursables en actions détenues dans le PEA-PME «0.0... 2TQ\n",
      "Produits des plans d’épargne retraite - sortie en capital. nbn tence:212\n",
      "Revenus déja soumis aux prélevements sociaux sans CSG déductible. 00 ees 2G\n",
      "Revenus déja soumis aux prélevements sociaux avec CSG déductible si option bareme ..... cee2BH\n",
      "Autres revenus déja soumis aux prélevements sociaux avec CSG déductible 0c nes 2DF\n",
      "REVEMUSide|a SOU hiniSea else Uo [Meme til eass Chics alice “CNG 0p) |G rear aeenere re mst ye an em ere re enna eae ener meee Pree20G\n",
      "Revenus soumis au seul prélevement de solidarité a soumettre a la CSG et Ala CRDS 00 ccc eevee cbt eect ens201\n",
      "PRIS HEU M RCE Sect et ONES Gh CUT O MIs CONCISE: ore serene eer Sn tse creesnone et Gere mrt Pot TE IS EEA eR PREP VE ERT AT2CA\n",
      "Crédits d’impot sur valeurs 6trangeres tnt e etree2AB\n",
      "Prélevement forfaitaire non libératoire deja Verse... nner e nen ees 2CK\n",
      "Autres revenus soumis a un prélevement ou une retenue libératoire bbe2EE\n",
      "Vous optez pour |’imposition au baréme de vos revenus de capitaux mobiliers et gains de cession de valeurs mobiliéres................20P COCHEZ\n",
      "\n",
      "ee\n",
      "\n"
     ]
    }
   ],
   "source": [
    "file=r'/home/frederic/Documents/Python/SDG/Github Clone/Python-Public/TEST_OCR/2042_3926_page_003.jpg'\n",
    "custom_config = r'-c preserve_interword_spaces=1 --oem 1 --psm 1 -l eng+ita'\n",
    "\n",
    "# default_config = r'-c -l eng+ita'\n",
    "\n",
    "extracted_text = pytesseract.image_to_string(Image.open(file), config=custom_config)\n",
    "\n",
    "print(extracted_text)\n",
    "\n",
    "# saving to a txt file\n",
    "\n",
    "with open(\"referto.txt\", \"w\") as text_file:\n",
    "    text_file.write(extracted_text)\n",
    "\n",
    "\n",
    "#print(pytesseract.image_to_data(Image.open(file)))"
   ]
  },
  {
   "cell_type": "markdown",
   "id": "03030897-b8b7-4458-8fae-dda6c5eb59ef",
   "metadata": {},
   "source": [
    "# TESTING TABLE extraction"
   ]
  },
  {
   "cell_type": "code",
   "execution_count": 61,
   "id": "795db660-994f-4631-a191-f3c075b37dac",
   "metadata": {},
   "outputs": [
    {
     "ename": "JavaNotFoundError",
     "evalue": "`java` command is not found from this Python process.Please ensure Java is installed and PATH is set for `java`",
     "output_type": "error",
     "traceback": [
      "\u001b[0;31m---------------------------------------------------------------------------\u001b[0m",
      "\u001b[0;31mFileNotFoundError\u001b[0m                         Traceback (most recent call last)",
      "\u001b[0;32m~/Programms/anaconda/lib/python3.9/site-packages/tabula/io.py\u001b[0m in \u001b[0;36m_run\u001b[0;34m(java_options, options, path, encoding)\u001b[0m\n\u001b[1;32m     79\u001b[0m     \u001b[0;32mtry\u001b[0m\u001b[0;34m:\u001b[0m\u001b[0;34m\u001b[0m\u001b[0;34m\u001b[0m\u001b[0m\n\u001b[0;32m---> 80\u001b[0;31m         result = subprocess.run(\n\u001b[0m\u001b[1;32m     81\u001b[0m             \u001b[0margs\u001b[0m\u001b[0;34m,\u001b[0m\u001b[0;34m\u001b[0m\u001b[0;34m\u001b[0m\u001b[0m\n",
      "\u001b[0;32m~/Programms/anaconda/lib/python3.9/subprocess.py\u001b[0m in \u001b[0;36mrun\u001b[0;34m(input, capture_output, timeout, check, *popenargs, **kwargs)\u001b[0m\n\u001b[1;32m    504\u001b[0m \u001b[0;34m\u001b[0m\u001b[0m\n\u001b[0;32m--> 505\u001b[0;31m     \u001b[0;32mwith\u001b[0m \u001b[0mPopen\u001b[0m\u001b[0;34m(\u001b[0m\u001b[0;34m*\u001b[0m\u001b[0mpopenargs\u001b[0m\u001b[0;34m,\u001b[0m \u001b[0;34m**\u001b[0m\u001b[0mkwargs\u001b[0m\u001b[0;34m)\u001b[0m \u001b[0;32mas\u001b[0m \u001b[0mprocess\u001b[0m\u001b[0;34m:\u001b[0m\u001b[0;34m\u001b[0m\u001b[0;34m\u001b[0m\u001b[0m\n\u001b[0m\u001b[1;32m    506\u001b[0m         \u001b[0;32mtry\u001b[0m\u001b[0;34m:\u001b[0m\u001b[0;34m\u001b[0m\u001b[0;34m\u001b[0m\u001b[0m\n",
      "\u001b[0;32m~/Programms/anaconda/lib/python3.9/subprocess.py\u001b[0m in \u001b[0;36m__init__\u001b[0;34m(self, args, bufsize, executable, stdin, stdout, stderr, preexec_fn, close_fds, shell, cwd, env, universal_newlines, startupinfo, creationflags, restore_signals, start_new_session, pass_fds, user, group, extra_groups, encoding, errors, text, umask)\u001b[0m\n\u001b[1;32m    950\u001b[0m \u001b[0;34m\u001b[0m\u001b[0m\n\u001b[0;32m--> 951\u001b[0;31m             self._execute_child(args, executable, preexec_fn, close_fds,\n\u001b[0m\u001b[1;32m    952\u001b[0m                                 \u001b[0mpass_fds\u001b[0m\u001b[0;34m,\u001b[0m \u001b[0mcwd\u001b[0m\u001b[0;34m,\u001b[0m \u001b[0menv\u001b[0m\u001b[0;34m,\u001b[0m\u001b[0;34m\u001b[0m\u001b[0;34m\u001b[0m\u001b[0m\n",
      "\u001b[0;32m~/Programms/anaconda/lib/python3.9/subprocess.py\u001b[0m in \u001b[0;36m_execute_child\u001b[0;34m(self, args, executable, preexec_fn, close_fds, pass_fds, cwd, env, startupinfo, creationflags, shell, p2cread, p2cwrite, c2pread, c2pwrite, errread, errwrite, restore_signals, gid, gids, uid, umask, start_new_session)\u001b[0m\n\u001b[1;32m   1820\u001b[0m                         \u001b[0merr_msg\u001b[0m \u001b[0;34m=\u001b[0m \u001b[0mos\u001b[0m\u001b[0;34m.\u001b[0m\u001b[0mstrerror\u001b[0m\u001b[0;34m(\u001b[0m\u001b[0merrno_num\u001b[0m\u001b[0;34m)\u001b[0m\u001b[0;34m\u001b[0m\u001b[0;34m\u001b[0m\u001b[0m\n\u001b[0;32m-> 1821\u001b[0;31m                     \u001b[0;32mraise\u001b[0m \u001b[0mchild_exception_type\u001b[0m\u001b[0;34m(\u001b[0m\u001b[0merrno_num\u001b[0m\u001b[0;34m,\u001b[0m \u001b[0merr_msg\u001b[0m\u001b[0;34m,\u001b[0m \u001b[0merr_filename\u001b[0m\u001b[0;34m)\u001b[0m\u001b[0;34m\u001b[0m\u001b[0;34m\u001b[0m\u001b[0m\n\u001b[0m\u001b[1;32m   1822\u001b[0m                 \u001b[0;32mraise\u001b[0m \u001b[0mchild_exception_type\u001b[0m\u001b[0;34m(\u001b[0m\u001b[0merr_msg\u001b[0m\u001b[0;34m)\u001b[0m\u001b[0;34m\u001b[0m\u001b[0;34m\u001b[0m\u001b[0m\n",
      "\u001b[0;31mFileNotFoundError\u001b[0m: [Errno 2] No such file or directory: 'java'",
      "\nDuring handling of the above exception, another exception occurred:\n",
      "\u001b[0;31mJavaNotFoundError\u001b[0m                         Traceback (most recent call last)",
      "\u001b[0;32m/tmp/ipykernel_31396/3889234933.py\u001b[0m in \u001b[0;36m<module>\u001b[0;34m\u001b[0m\n\u001b[1;32m      1\u001b[0m \u001b[0mfile\u001b[0m\u001b[0;34m=\u001b[0m\u001b[0;34mr'/home/frederic/Documents/Python/SDG/Github Clone/Python-Public/TEST_OCR/2042_3926.pdf'\u001b[0m\u001b[0;34m\u001b[0m\u001b[0;34m\u001b[0m\u001b[0m\n\u001b[1;32m      2\u001b[0m \u001b[0;31m#reads table from pdf file\u001b[0m\u001b[0;34m\u001b[0m\u001b[0;34m\u001b[0m\u001b[0m\n\u001b[0;32m----> 3\u001b[0;31m \u001b[0mabc\u001b[0m \u001b[0;34m=\u001b[0m \u001b[0mtabula\u001b[0m\u001b[0;34m.\u001b[0m\u001b[0mread_pdf\u001b[0m\u001b[0;34m(\u001b[0m\u001b[0mfile\u001b[0m\u001b[0;34m,\u001b[0m \u001b[0mpages\u001b[0m\u001b[0;34m=\u001b[0m\u001b[0;36m3\u001b[0m\u001b[0;34m)\u001b[0m \u001b[0;31m#address of pdf file\u001b[0m\u001b[0;34m\u001b[0m\u001b[0;34m\u001b[0m\u001b[0m\n\u001b[0m\u001b[1;32m      4\u001b[0m \u001b[0mprint\u001b[0m\u001b[0;34m(\u001b[0m\u001b[0mabc\u001b[0m\u001b[0;34m)\u001b[0m\u001b[0;34m\u001b[0m\u001b[0;34m\u001b[0m\u001b[0m\n",
      "\u001b[0;32m~/Programms/anaconda/lib/python3.9/site-packages/tabula/io.py\u001b[0m in \u001b[0;36mread_pdf\u001b[0;34m(input_path, output_format, encoding, java_options, pandas_options, multiple_tables, user_agent, **kwargs)\u001b[0m\n\u001b[1;32m    320\u001b[0m \u001b[0;34m\u001b[0m\u001b[0m\n\u001b[1;32m    321\u001b[0m     \u001b[0;32mtry\u001b[0m\u001b[0;34m:\u001b[0m\u001b[0;34m\u001b[0m\u001b[0;34m\u001b[0m\u001b[0m\n\u001b[0;32m--> 322\u001b[0;31m         \u001b[0moutput\u001b[0m \u001b[0;34m=\u001b[0m \u001b[0m_run\u001b[0m\u001b[0;34m(\u001b[0m\u001b[0mjava_options\u001b[0m\u001b[0;34m,\u001b[0m \u001b[0mkwargs\u001b[0m\u001b[0;34m,\u001b[0m \u001b[0mpath\u001b[0m\u001b[0;34m,\u001b[0m \u001b[0mencoding\u001b[0m\u001b[0;34m)\u001b[0m\u001b[0;34m\u001b[0m\u001b[0;34m\u001b[0m\u001b[0m\n\u001b[0m\u001b[1;32m    323\u001b[0m     \u001b[0;32mfinally\u001b[0m\u001b[0;34m:\u001b[0m\u001b[0;34m\u001b[0m\u001b[0;34m\u001b[0m\u001b[0m\n\u001b[1;32m    324\u001b[0m         \u001b[0;32mif\u001b[0m \u001b[0mtemporary\u001b[0m\u001b[0;34m:\u001b[0m\u001b[0;34m\u001b[0m\u001b[0;34m\u001b[0m\u001b[0m\n",
      "\u001b[0;32m~/Programms/anaconda/lib/python3.9/site-packages/tabula/io.py\u001b[0m in \u001b[0;36m_run\u001b[0;34m(java_options, options, path, encoding)\u001b[0m\n\u001b[1;32m     89\u001b[0m         \u001b[0;32mreturn\u001b[0m \u001b[0mresult\u001b[0m\u001b[0;34m.\u001b[0m\u001b[0mstdout\u001b[0m\u001b[0;34m\u001b[0m\u001b[0;34m\u001b[0m\u001b[0m\n\u001b[1;32m     90\u001b[0m     \u001b[0;32mexcept\u001b[0m \u001b[0mFileNotFoundError\u001b[0m\u001b[0;34m:\u001b[0m\u001b[0;34m\u001b[0m\u001b[0;34m\u001b[0m\u001b[0m\n\u001b[0;32m---> 91\u001b[0;31m         \u001b[0;32mraise\u001b[0m \u001b[0mJavaNotFoundError\u001b[0m\u001b[0;34m(\u001b[0m\u001b[0mJAVA_NOT_FOUND_ERROR\u001b[0m\u001b[0;34m)\u001b[0m\u001b[0;34m\u001b[0m\u001b[0;34m\u001b[0m\u001b[0m\n\u001b[0m\u001b[1;32m     92\u001b[0m     \u001b[0;32mexcept\u001b[0m \u001b[0msubprocess\u001b[0m\u001b[0;34m.\u001b[0m\u001b[0mCalledProcessError\u001b[0m \u001b[0;32mas\u001b[0m \u001b[0me\u001b[0m\u001b[0;34m:\u001b[0m\u001b[0;34m\u001b[0m\u001b[0;34m\u001b[0m\u001b[0m\n\u001b[1;32m     93\u001b[0m         \u001b[0mlogger\u001b[0m\u001b[0;34m.\u001b[0m\u001b[0merror\u001b[0m\u001b[0;34m(\u001b[0m\u001b[0;34m\"Error from tabula-java:\\n{}\\n\"\u001b[0m\u001b[0;34m.\u001b[0m\u001b[0mformat\u001b[0m\u001b[0;34m(\u001b[0m\u001b[0me\u001b[0m\u001b[0;34m.\u001b[0m\u001b[0mstderr\u001b[0m\u001b[0;34m.\u001b[0m\u001b[0mdecode\u001b[0m\u001b[0;34m(\u001b[0m\u001b[0mencoding\u001b[0m\u001b[0;34m)\u001b[0m\u001b[0;34m)\u001b[0m\u001b[0;34m)\u001b[0m\u001b[0;34m\u001b[0m\u001b[0;34m\u001b[0m\u001b[0m\n",
      "\u001b[0;31mJavaNotFoundError\u001b[0m: `java` command is not found from this Python process.Please ensure Java is installed and PATH is set for `java`"
     ]
    }
   ],
   "source": [
    "file=r'/home/frederic/Documents/Python/SDG/Github Clone/Python-Public/TEST_OCR/2042_3926.pdf'\n",
    "#reads table from pdf file\n",
    "abc = tabula.read_pdf(file, pages=3) #address of pdf file\n",
    "print(abc)"
   ]
  },
  {
   "cell_type": "code",
   "execution_count": 47,
   "id": "8d8f994f-a455-429a-b85f-3461d9e74418",
   "metadata": {},
   "outputs": [
    {
     "name": "stdout",
     "output_type": "stream",
     "text": [
      "                                                                                                                                                         2042 Impression: PARAGON 2021TIR195 115521\n",
      "1 1 TRAITEMENTS                                     SALAIRES                                           PENSIONS                                                                              RENTES\n",
      "TRAITEMENTS                                         SALAIRES                                      ... NaN                                                                                       NaN\n",
      "Traitements et salaires 0c TAJU 1B)                 SS                                                 WS1D)                                                                                    NaN\n",
      "Revenus des salariés des particuliers employeur...  1A                                                1DA                                                                                       NaN\n",
      "Abattement forfaitaire Assistants maternels/fam... NaN                                                NaN                                                                                       NaN\n",
      "Heures supplémentaires exonérées oe. 1GH|_ Cd       THH|WHEL                                          1JH                                                                                       NaN\n",
      "Revenus des associés et gérants article 62 du C... NaN                                                NaN                                                                                       NaN\n",
      "Droits d’auteur                                     fonctionnaires chercheurs.................. 00...  1)F                                                                                      NaN\n",
      "Autres revenus imposables chémage préretraite..... NaN                                                NaN                                                                                       NaN\n",
      "Salaires percus par les non-résidents et salair... NaN                                                NaN                                                                                       NaN\n",
      "étrangere avec crédit d’impot égal a l’impét fr... NaN                                                NaN                                                                                       NaN\n",
      "Autres salaires imposables de source étrangére....  1BG| Gi                                           1DG                                                                                       NaN\n",
      "Frais réels joignez Ia liste détaillée sur papi...  1BKL  1K                                          1DK                                                                                       NaN\n",
      "PENSIONS                                            RETRAITES                                          RENTES                                        ...                                        NaN\n",
      "Pensions                                            retraites et rentes 00.TAS                         1BS|WSL 1DS                                                                              NaN\n",
      "Pensions de retraite en capital taxables 4 7       5%..............TAT)1BTLer 1DT                     NaN                                                                                       NaN\n",
      "Pensions en capital des plans d’épargne retrait...  1BIL Wj                                           1D!                                                                                       NaN\n",
      "Pensions d’invalidité 2.000.000TAZ                 1BZ|zi 1DZ                                         NaN                                                                                       NaN\n",
      "PeRSIGnSealliin ental MES DONG Caer wena yee ra...  WBO CS1D0                                         NaN                                                                                       NaN\n",
      "Pensions percues par les non-résidents et pensi... NaN                                                NaN                                                                                       NaN\n",
      "étrangere avec crédit d’impot égal a l’impét fr... IBLEbi                                              1DL                                                                                      NaN\n",
      "Autres pensions imposables de source étrangére.... NaN                                                NaN                                                                                       NaN\n",
      "RENTES VIAGERES A TITRE ONEREUX                    NaN                                                NaN                                                                                       NaN\n",
      "Montant percu par le foyer par dge dentrée en j... NaN                                                NaN                                                                                       NaN\n",
      "Rentes PEMCUeS 2TAW|                                1BW|wl sd 1DW                                     NaN                                                                                       NaN\n",
      "Rentes percues par les non-résidents et rentes ... NaN                                                NaN                                                                                       NaN\n",
      "étrangere avec crédit d’impdét égal a l’impét f... NaN                                                NaN                                                                                       NaN\n",
      "2 | REVENUS DE CAPITAUX MOBILIERS                  NaN                                                NaN                                                                                       NaN\n",
      "Produits des bons et contrats de capitalisation... NaN                                                NaN                                                                                       NaN\n",
      "- produits des versements effectués avant le 27... NaN                                                NaN                                                                                       NaN\n",
      "- produits soumis au prélevement libératoire ce... NaN                                                NaN                                                                                       NaN\n",
      "Be AINGS: POU Scores ete pete ee a reeey eee Pk... NaN                                                NaN                                                                                       NaN\n",
      "- produits des versements effectués a compter d... NaN                                                NaN                                                                                       NaN\n",
      "- produits imposables a 7                          5 % produits correspondant aux primes n’excédan... NaN                                                                                       NaN\n",
      "- produits imposables a 12                         8 % produits correspondant aux primes excEdant ... NaN                                                                                       NaN\n",
      "Produits des bons et contrats de capitalisation... NaN                                                NaN                                                                                       NaN\n",
      "- produits des versements effectués avant le 27... NaN                                                NaN                                                                                       NaN\n",
      "SSKTC UES: SOUNMIS AU) PLelE VENOM IIDGIALOING ... NaN                                                NaN                                                                                       NaN\n",
      "STUIEHES: (UOMO rye cree crcey ren cence ree co... NaN                                                NaN                                                                                       NaN\n",
      "- produits des versements effectués a compter d... NaN                                                NaN                                                                                       NaN\n",
      "Revenus des actions et parts Abattement de 40% ... NaN                                                NaN                                                                                       NaN\n",
      "Dividendes imposables des titres non cotés déte... NaN                                                NaN                                                                                       NaN\n",
      "Autres revenus distribués et assimilés. bbb btn... NaN                                                NaN                                                                                       NaN\n",
      "Intéréts et autres produits de placement a freV... NaN                                                NaN                                                                                       NaN\n",
      "FGETE IS eS ECS MARGINS TEUGES                      (NATIT S wxseers-ancnte aera orer messes -ctre... NaN                                                                                       NaN\n",
      "Intéréts imposables des obligations remboursabl... NaN                                                NaN                                                                                       NaN\n",
      "Produits des plans d’épargne retraite - sortie ... NaN                                                NaN                                                                                       NaN\n",
      "Revenus déja soumis aux prélevements sociaux sa... NaN                                                NaN                                                                                       NaN\n",
      "Revenus déja soumis aux prélevements sociaux av... NaN                                                NaN                                                                                       NaN\n",
      "Autres revenus déja soumis aux prélevements soc... NaN                                                NaN                                                                                       NaN\n",
      "REVEMUSide|a SOU hiniSea else Uo [Meme til eass... NaN                                                NaN                                                                                       NaN\n",
      "Revenus soumis au seul prélevement de solidarit... NaN                                                NaN                                                                                       NaN\n",
      "PRIS HEU M RCE Sect et ONES Gh CUT O MIs CONCIS... NaN                                                NaN                                                                                       NaN\n",
      "Crédits d’impot sur valeurs 6trangeres tnt e et... NaN                                                NaN                                                                                       NaN\n",
      "Prélevement forfaitaire non libératoire deja Ve... NaN                                                NaN                                                                                       NaN\n",
      "Autres revenus soumis a un prélevement ou une r... NaN                                                NaN                                                                                       NaN\n",
      "Vous optez pour |’imposition au baréme de vos r... NaN                                                NaN                                                                                       NaN\n",
      "ee                                                 NaN                                                NaN                                                                                       NaN\n"
     ]
    },
    {
     "data": {
      "text/plain": [
       "'\\npdfReader = PyPDF2.PdfFileReader(file)\\n\\n# Pages numbers\\nprint(pdfReader.numPages)\\n\\npageObj = pdfReader.getPage(3)\\nprint(pageObj.extractText())\\n'"
      ]
     },
     "execution_count": 47,
     "metadata": {},
     "output_type": "execute_result"
    }
   ],
   "source": [
    "file=r'/home/frederic/Documents/Python/SDG/Github Clone/Python-Public/referto.txt'\n",
    "\n",
    "df=pd.read_csv(file)\n",
    "print(df)\n",
    "\n",
    "'''\n",
    "pdfReader = PyPDF2.PdfFileReader(file)\n",
    "\n",
    "# Pages numbers\n",
    "print(pdfReader.numPages)\n",
    "\n",
    "pageObj = pdfReader.getPage(3)\n",
    "print(pageObj.extractText())\n",
    "'''"
   ]
  },
  {
   "cell_type": "markdown",
   "id": "cd15d423-fc3d-4ff2-a5fc-193f6293a358",
   "metadata": {},
   "source": [
    "# 4 Turn PDF file into Image fomat"
   ]
  },
  {
   "cell_type": "code",
   "execution_count": 13,
   "id": "9e9bc424-943c-46bb-a408-dd6d2fed6262",
   "metadata": {},
   "outputs": [],
   "source": [
    "# Import libraries\n",
    "import platform\n",
    "from tempfile import TemporaryDirectory\n",
    "from pathlib import Path\n",
    "import pytesseract\n",
    "from pdf2image import convert_from_path, convert_from_bytes\n",
    "from PIL import Image"
   ]
  },
  {
   "cell_type": "code",
   "execution_count": null,
   "id": "3d2e8e75-7a3b-4245-a7e4-6e734c0b9383",
   "metadata": {},
   "outputs": [],
   "source": [
    "file=r'/home/frederic/Documents/Python/SDG/Github Clone/Python-Public/TEST_OCR/2019_2020_Reg.pdf'"
   ]
  },
  {
   "cell_type": "code",
   "execution_count": 14,
   "id": "ef0594f8-66b8-473b-8d50-a9fb5880b328",
   "metadata": {},
   "outputs": [
    {
     "data": {
      "text/plain": [
       "'/home/frederic/Documents/Python/SDG/Github Clone/Python-Public/TEST_OCR/2019_2020_Reg.pdf'"
      ]
     },
     "execution_count": 14,
     "metadata": {},
     "output_type": "execute_result"
    }
   ],
   "source": [
    "file"
   ]
  },
  {
   "cell_type": "code",
   "execution_count": 15,
   "id": "05a2a60e-b0b8-49dd-b060-3dad20389631",
   "metadata": {},
   "outputs": [
    {
     "name": "stdout",
     "output_type": "stream",
     "text": [
      "Nombre de pages: 1\n",
      "Page N°1\n",
      "\n",
      "PARIS RIVE GAUCHE\n",
      "[> 200 RUE RAYMOND LOSSERAND\n",
      "\n",
      "T3014 PARIS\n",
      "\n",
      "Tel. :01.56.54.39.29\n",
      "Fax . 01.56,54.37.20\n",
      "\n",
      "CHARGES DE COPROPRIETE\n",
      "PROVISION/OPERATIONS COURANTES\n",
      "piney ri peri cice craps M&ME AIELLO FREDERIC\n",
      "\n",
      "Et ites uscenraat 16 BIS RUE DU QUATRE SEPTEMBRE\n",
      "92130 ISSY LES MOULINEAUX\n",
      "\n",
      "Copropeietaire: + M&ME AIELLO FREDERIC\n",
      "\n",
      "Les Intenocuteurs 4 votre service\n",
      "Gestionnaire < DEFONTAINE Elsa\n",
      "\n",
      "Ent Et Type de lot\n",
      "2000 ss | CAVE\n",
      "73) co0a 06 | APPARTEMENT\n",
      "\n",
      "Lot 1°21 CAVE\n",
      "CHARGES GENERALES\n",
      "\n",
      "CHARGES GENERALES\n",
      "BATIMENT A\n",
      "\n",
      "CHARGES BATIMENT A\n",
      "‘Sous-total\n",
      "Lot n° 73 APPARTEMENT\n",
      "CHARGES GENERALES\n",
      "CHARGES GENERALES\n",
      "BATIMENTA\n",
      "CHARGES BATIMENT A\n",
      "ASCENSEUR\n",
      "CHARGES ASCENSEUR\n",
      "\n",
      "CHAUPFAGE\n",
      "CHARGES CHAUFFAGE\n",
      "\n",
      "ENTRETIEN COMPTEUR\n",
      "COMPTEURS D'EAU APPARTEMENTS\n",
      "CONSOMMATIONS EAU FROIDE\n",
      "CONSOMMATIONS EAU FROIDE\n",
      "index début: 208 Fin: 248 M3\n",
      "1023 Fin: 1113\n",
      "\n",
      "URAL EEE A EE ER CN Pe IE HO LE CI ET NE\n",
      "\n"
     ]
    }
   ],
   "source": [
    "try:\n",
    "    from PIL import Image\n",
    "except ImportError:\n",
    "    import Image\n",
    "import pytesseract\n",
    "from pytesseract import Output\n",
    "images = convert_from_path(file)\n",
    "print (\"Nombre de pages: \" + str(len(images)))\n",
    "for i in range (len(images)):\n",
    "    print (\"Page N°\" + str(i+1) + \"\\n\")\n",
    "    print(pytesseract.image_to_string(images[i]))"
   ]
  },
  {
   "cell_type": "code",
   "execution_count": 33,
   "id": "57ce2ab9-70dd-443c-a408-981bb732ab87",
   "metadata": {},
   "outputs": [
    {
     "data": {
      "text/plain": [
       "<TemporaryDirectory '/tmp/tmpt9sw6z6a'>"
      ]
     },
     "execution_count": 33,
     "metadata": {},
     "output_type": "execute_result"
    }
   ],
   "source": [
    "file=r'/home/frederic/Documents/Python/SDG/Github Clone/Python-Public/TEST_OCR/2019_2020_Reg.pdf'"
   ]
  },
  {
   "cell_type": "code",
   "execution_count": 58,
   "id": "a5b6695d-f3d4-44f8-aed7-ac3eeaaf5ab0",
   "metadata": {},
   "outputs": [
    {
     "data": {
      "text/plain": [
       "'2019_2020_Reg'"
      ]
     },
     "execution_count": 58,
     "metadata": {},
     "output_type": "execute_result"
    }
   ],
   "source": [
    "# file name with extension\n",
    "file_nameExt = os.path.basename(file)\n",
    "\n",
    "# file name without extension\n",
    "file_name=os.path.splitext(file_nameExt)[0]\n",
    "\n",
    "file_name"
   ]
  },
  {
   "cell_type": "markdown",
   "id": "3223f8bb-8473-4f60-aec7-b03803c65653",
   "metadata": {},
   "source": [
    "# 5 Change PDF files to JPG files and consolidated in text format"
   ]
  },
  {
   "cell_type": "code",
   "execution_count": 25,
   "id": "626fc11c-457f-4c99-9bd3-8b3ee814f96a",
   "metadata": {},
   "outputs": [],
   "source": [
    "file=r'/home/frederic/Documents/Python/SDG/Github Clone/Python-Public/TEST_OCR/2042_3926.pdf'\n",
    "\n",
    "if platform.system() == \"Windows\":\n",
    "    #We may need to do some additional downloading and setup...\n",
    "    #Windows needs a PyTesseract Download\n",
    "    #https://github.com/UB-Mannheim/tesseract/wiki/Downloading-Tesseract-OCR-Engine\n",
    "    pytesseract.pytesseract.tesseract_cmd = (\n",
    "        r\"C:\\Program Files\\Tesseract-OCR\\tesseract.exe\"\n",
    "    )\n",
    "    \n",
    "    #Windows also needs poppler_exe\n",
    "    path_to_poppler_exe = Path(r\"C:\\.....\")\n",
    "\n",
    "    # Put our output files in a sane place...\n",
    "    out_directory = Path(r\"~\\Desktop\").expanduser()\n",
    "else:\n",
    "    out_directory = Path(\"~\").expanduser()\n",
    "    \n",
    "#Path of the Input pdf\n",
    "PDF_file = Path(file)\n",
    "\n",
    "#Path to find the consolidated output text\n",
    "TempDirectory=out_directory / Path('Documents/Python/SDG/Github Clone/Python-Public/TEST_OCR')\n",
    "\n",
    "# File name\n",
    "# file name with extension\n",
    "file_nameExt = os.path.basename(file)\n",
    "\n",
    "# file name without extension\n",
    "file_name=os.path.splitext(file_nameExt)[0]\n",
    "\n",
    "# Store all the pages of the PDF in a variable\n",
    "image_file_list = []\n",
    "text_file = TempDirectory / Path(f\"{file_name}_Conso_text.txt\")\n",
    "\n",
    "\n",
    "def main():\n",
    "    ''' Main execution point of the program'''\n",
    "    # Create a temporary directory ('/home/frederic/Documents/Python/SDG/Github Clone/Python-Public/TEST_OCR') on to hold our temporary images.\n",
    "    \n",
    "    with TempDirectory as tempdir: \n",
    "\n",
    "    # Create a temporary directory ('/tmp/tmporsmoh94')to hold our temporary images.\n",
    "    #with TemporaryDirectory() as tempdir:\n",
    "\n",
    "        \"\"\"\n",
    "        ===================================================================================\n",
    "        Part #1 : Converting PDF to images\n",
    "        ===================================================================================\n",
    "        \"\"\"\n",
    "        \n",
    "        if platform.system() == \"Windows\":\n",
    "            pdf_pages = convert_from_path(\n",
    "                PDF_file, 500, poppler_path=path_to_poppler_exe\n",
    "            )\n",
    "        else:\n",
    "            pdf_pages = convert_from_path(PDF_file, 500)\n",
    "            \n",
    "        # Read in the PDF file at 500 DPI\n",
    "        \n",
    "    # Iterate through all the pages stored above\n",
    "    for page_enumeration, page in enumerate(pdf_pages, start=1):\n",
    "        # enumerate() \"counts\" the pages for us.\n",
    "        # Create a file name to store the image\n",
    "        filename = f\"{tempdir}/{file_name}_page_{page_enumeration:03}.jpg\"\n",
    "        \n",
    "        # Declaring filename for each page of PDF as JPG\n",
    "        # For each page, filename will be:\n",
    "        # PDF page 1 -> page_001.jpg\n",
    "        # PDF page 2 -> page_002.jpg\n",
    "        # PDF page 3 -> page_003.jpg\n",
    "        # ....\n",
    "        # PDF page n -> page_00n.jpg\n",
    "        \n",
    "        # Save the image of the page in system\n",
    "        page.save(filename, \"JPEG\")\n",
    "        image_file_list.append(filename)\n",
    "        \n",
    "        \"\"\"\n",
    "        ===================================================================================\n",
    "        Part #2 - Recognizing text from the images using OCR\n",
    "        ===================================================================================\n",
    "        \"\"\"\n",
    "        \n",
    "        with open(text_file, \"a\") as output_file:\n",
    "            # Open the file in append mode so that\n",
    "            # All contents of all images are added to the same file\n",
    "\n",
    "            # Iterate from 1 to total number of pages\n",
    "            for image_file in image_file_list:\n",
    "\n",
    "                # Set filename to recognize text from\n",
    "                # Again, these files will be:\n",
    "                # page_1.jpg\n",
    "                # page_2.jpg\n",
    "                # ....&\n",
    "                # page_n.jpg\n",
    "\n",
    "                # Recognize the text as string in image using pytesserct\n",
    "                text = str(((pytesseract.image_to_string(Image.open(image_file)))))\n",
    "\n",
    "                # The recognized text is stored in variable text\n",
    "                # Any string processing may be applied on text\n",
    "                # Here, basic formatting has been done:\n",
    "                # In many PDFs, at line ending, if a word can't\n",
    "                # be written fully, a 'hyphen' is added.\n",
    "                # The rest of the word is written in the next line\n",
    "                # Eg: This is a sample text this word here GeeksF-\n",
    "                # orGeeks is half on first line, remaining on next.\n",
    "                # To remove this, we replace every '-\\n' to ''.\n",
    "                #text = text.replace(\"-\\n\", \"\")\n",
    "\n",
    "                # Finally, write the processed text to the file.\n",
    "                output_file.write(text)\n",
    "            \n",
    "        # At the end of the with .. output_file block\n",
    "        # the file is closed after writing all the text.\n",
    "        # At the end of the with .. tempdir block, the\n",
    "        # TemporaryDirectory() we're using gets removed!\n",
    "        # End of main function!\n",
    "\n",
    "if __name__ == \"__main__\":\n",
    "    # We only want to run this if it's directly executed!\n",
    "    main()"
   ]
  },
  {
   "cell_type": "code",
   "execution_count": 24,
   "id": "eafdf6df-fae7-4041-9bf4-350ccd536fce",
   "metadata": {},
   "outputs": [
    {
     "ename": "ParserError",
     "evalue": "Error tokenizing data. C error: Expected 1 fields in line 15, saw 4\n",
     "output_type": "error",
     "traceback": [
      "\u001b[0;31m---------------------------------------------------------------------------\u001b[0m",
      "\u001b[0;31mParserError\u001b[0m                               Traceback (most recent call last)",
      "\u001b[0;32m/tmp/ipykernel_31396/2973316617.py\u001b[0m in \u001b[0;36m<module>\u001b[0;34m\u001b[0m\n\u001b[0;32m----> 1\u001b[0;31m \u001b[0mdh\u001b[0m\u001b[0;34m=\u001b[0m\u001b[0mpd\u001b[0m\u001b[0;34m.\u001b[0m\u001b[0mread_csv\u001b[0m\u001b[0;34m(\u001b[0m\u001b[0;34mr'/home/frederic/Documents/Python/SDG/Github Clone/Python-Public/TEST_OCR/2042_3926_Conso_text.txt'\u001b[0m\u001b[0;34m,\u001b[0m\u001b[0mheader\u001b[0m\u001b[0;34m=\u001b[0m\u001b[0;32mNone\u001b[0m\u001b[0;34m)\u001b[0m\u001b[0;34m\u001b[0m\u001b[0;34m\u001b[0m\u001b[0m\n\u001b[0m",
      "\u001b[0;32m~/Programms/anaconda/lib/python3.9/site-packages/pandas/util/_decorators.py\u001b[0m in \u001b[0;36mwrapper\u001b[0;34m(*args, **kwargs)\u001b[0m\n\u001b[1;32m    309\u001b[0m                     \u001b[0mstacklevel\u001b[0m\u001b[0;34m=\u001b[0m\u001b[0mstacklevel\u001b[0m\u001b[0;34m,\u001b[0m\u001b[0;34m\u001b[0m\u001b[0;34m\u001b[0m\u001b[0m\n\u001b[1;32m    310\u001b[0m                 )\n\u001b[0;32m--> 311\u001b[0;31m             \u001b[0;32mreturn\u001b[0m \u001b[0mfunc\u001b[0m\u001b[0;34m(\u001b[0m\u001b[0;34m*\u001b[0m\u001b[0margs\u001b[0m\u001b[0;34m,\u001b[0m \u001b[0;34m**\u001b[0m\u001b[0mkwargs\u001b[0m\u001b[0;34m)\u001b[0m\u001b[0;34m\u001b[0m\u001b[0;34m\u001b[0m\u001b[0m\n\u001b[0m\u001b[1;32m    312\u001b[0m \u001b[0;34m\u001b[0m\u001b[0m\n\u001b[1;32m    313\u001b[0m         \u001b[0;32mreturn\u001b[0m \u001b[0mwrapper\u001b[0m\u001b[0;34m\u001b[0m\u001b[0;34m\u001b[0m\u001b[0m\n",
      "\u001b[0;32m~/Programms/anaconda/lib/python3.9/site-packages/pandas/io/parsers/readers.py\u001b[0m in \u001b[0;36mread_csv\u001b[0;34m(filepath_or_buffer, sep, delimiter, header, names, index_col, usecols, squeeze, prefix, mangle_dupe_cols, dtype, engine, converters, true_values, false_values, skipinitialspace, skiprows, skipfooter, nrows, na_values, keep_default_na, na_filter, verbose, skip_blank_lines, parse_dates, infer_datetime_format, keep_date_col, date_parser, dayfirst, cache_dates, iterator, chunksize, compression, thousands, decimal, lineterminator, quotechar, quoting, doublequote, escapechar, comment, encoding, encoding_errors, dialect, error_bad_lines, warn_bad_lines, on_bad_lines, delim_whitespace, low_memory, memory_map, float_precision, storage_options)\u001b[0m\n\u001b[1;32m    676\u001b[0m     \u001b[0mkwds\u001b[0m\u001b[0;34m.\u001b[0m\u001b[0mupdate\u001b[0m\u001b[0;34m(\u001b[0m\u001b[0mkwds_defaults\u001b[0m\u001b[0;34m)\u001b[0m\u001b[0;34m\u001b[0m\u001b[0;34m\u001b[0m\u001b[0m\n\u001b[1;32m    677\u001b[0m \u001b[0;34m\u001b[0m\u001b[0m\n\u001b[0;32m--> 678\u001b[0;31m     \u001b[0;32mreturn\u001b[0m \u001b[0m_read\u001b[0m\u001b[0;34m(\u001b[0m\u001b[0mfilepath_or_buffer\u001b[0m\u001b[0;34m,\u001b[0m \u001b[0mkwds\u001b[0m\u001b[0;34m)\u001b[0m\u001b[0;34m\u001b[0m\u001b[0;34m\u001b[0m\u001b[0m\n\u001b[0m\u001b[1;32m    679\u001b[0m \u001b[0;34m\u001b[0m\u001b[0m\n\u001b[1;32m    680\u001b[0m \u001b[0;34m\u001b[0m\u001b[0m\n",
      "\u001b[0;32m~/Programms/anaconda/lib/python3.9/site-packages/pandas/io/parsers/readers.py\u001b[0m in \u001b[0;36m_read\u001b[0;34m(filepath_or_buffer, kwds)\u001b[0m\n\u001b[1;32m    579\u001b[0m \u001b[0;34m\u001b[0m\u001b[0m\n\u001b[1;32m    580\u001b[0m     \u001b[0;32mwith\u001b[0m \u001b[0mparser\u001b[0m\u001b[0;34m:\u001b[0m\u001b[0;34m\u001b[0m\u001b[0;34m\u001b[0m\u001b[0m\n\u001b[0;32m--> 581\u001b[0;31m         \u001b[0;32mreturn\u001b[0m \u001b[0mparser\u001b[0m\u001b[0;34m.\u001b[0m\u001b[0mread\u001b[0m\u001b[0;34m(\u001b[0m\u001b[0mnrows\u001b[0m\u001b[0;34m)\u001b[0m\u001b[0;34m\u001b[0m\u001b[0;34m\u001b[0m\u001b[0m\n\u001b[0m\u001b[1;32m    582\u001b[0m \u001b[0;34m\u001b[0m\u001b[0m\n\u001b[1;32m    583\u001b[0m \u001b[0;34m\u001b[0m\u001b[0m\n",
      "\u001b[0;32m~/Programms/anaconda/lib/python3.9/site-packages/pandas/io/parsers/readers.py\u001b[0m in \u001b[0;36mread\u001b[0;34m(self, nrows)\u001b[0m\n\u001b[1;32m   1251\u001b[0m             \u001b[0mnrows\u001b[0m \u001b[0;34m=\u001b[0m \u001b[0mvalidate_integer\u001b[0m\u001b[0;34m(\u001b[0m\u001b[0;34m\"nrows\"\u001b[0m\u001b[0;34m,\u001b[0m \u001b[0mnrows\u001b[0m\u001b[0;34m)\u001b[0m\u001b[0;34m\u001b[0m\u001b[0;34m\u001b[0m\u001b[0m\n\u001b[1;32m   1252\u001b[0m             \u001b[0;32mtry\u001b[0m\u001b[0;34m:\u001b[0m\u001b[0;34m\u001b[0m\u001b[0;34m\u001b[0m\u001b[0m\n\u001b[0;32m-> 1253\u001b[0;31m                 \u001b[0mindex\u001b[0m\u001b[0;34m,\u001b[0m \u001b[0mcolumns\u001b[0m\u001b[0;34m,\u001b[0m \u001b[0mcol_dict\u001b[0m \u001b[0;34m=\u001b[0m \u001b[0mself\u001b[0m\u001b[0;34m.\u001b[0m\u001b[0m_engine\u001b[0m\u001b[0;34m.\u001b[0m\u001b[0mread\u001b[0m\u001b[0;34m(\u001b[0m\u001b[0mnrows\u001b[0m\u001b[0;34m)\u001b[0m\u001b[0;34m\u001b[0m\u001b[0;34m\u001b[0m\u001b[0m\n\u001b[0m\u001b[1;32m   1254\u001b[0m             \u001b[0;32mexcept\u001b[0m \u001b[0mException\u001b[0m\u001b[0;34m:\u001b[0m\u001b[0;34m\u001b[0m\u001b[0;34m\u001b[0m\u001b[0m\n\u001b[1;32m   1255\u001b[0m                 \u001b[0mself\u001b[0m\u001b[0;34m.\u001b[0m\u001b[0mclose\u001b[0m\u001b[0;34m(\u001b[0m\u001b[0;34m)\u001b[0m\u001b[0;34m\u001b[0m\u001b[0;34m\u001b[0m\u001b[0m\n",
      "\u001b[0;32m~/Programms/anaconda/lib/python3.9/site-packages/pandas/io/parsers/c_parser_wrapper.py\u001b[0m in \u001b[0;36mread\u001b[0;34m(self, nrows)\u001b[0m\n\u001b[1;32m    223\u001b[0m         \u001b[0;32mtry\u001b[0m\u001b[0;34m:\u001b[0m\u001b[0;34m\u001b[0m\u001b[0;34m\u001b[0m\u001b[0m\n\u001b[1;32m    224\u001b[0m             \u001b[0;32mif\u001b[0m \u001b[0mself\u001b[0m\u001b[0;34m.\u001b[0m\u001b[0mlow_memory\u001b[0m\u001b[0;34m:\u001b[0m\u001b[0;34m\u001b[0m\u001b[0;34m\u001b[0m\u001b[0m\n\u001b[0;32m--> 225\u001b[0;31m                 \u001b[0mchunks\u001b[0m \u001b[0;34m=\u001b[0m \u001b[0mself\u001b[0m\u001b[0;34m.\u001b[0m\u001b[0m_reader\u001b[0m\u001b[0;34m.\u001b[0m\u001b[0mread_low_memory\u001b[0m\u001b[0;34m(\u001b[0m\u001b[0mnrows\u001b[0m\u001b[0;34m)\u001b[0m\u001b[0;34m\u001b[0m\u001b[0;34m\u001b[0m\u001b[0m\n\u001b[0m\u001b[1;32m    226\u001b[0m                 \u001b[0;31m# destructive to chunks\u001b[0m\u001b[0;34m\u001b[0m\u001b[0;34m\u001b[0m\u001b[0m\n\u001b[1;32m    227\u001b[0m                 \u001b[0mdata\u001b[0m \u001b[0;34m=\u001b[0m \u001b[0m_concatenate_chunks\u001b[0m\u001b[0;34m(\u001b[0m\u001b[0mchunks\u001b[0m\u001b[0;34m)\u001b[0m\u001b[0;34m\u001b[0m\u001b[0;34m\u001b[0m\u001b[0m\n",
      "\u001b[0;32m~/Programms/anaconda/lib/python3.9/site-packages/pandas/_libs/parsers.pyx\u001b[0m in \u001b[0;36mpandas._libs.parsers.TextReader.read_low_memory\u001b[0;34m()\u001b[0m\n",
      "\u001b[0;32m~/Programms/anaconda/lib/python3.9/site-packages/pandas/_libs/parsers.pyx\u001b[0m in \u001b[0;36mpandas._libs.parsers.TextReader._read_rows\u001b[0;34m()\u001b[0m\n",
      "\u001b[0;32m~/Programms/anaconda/lib/python3.9/site-packages/pandas/_libs/parsers.pyx\u001b[0m in \u001b[0;36mpandas._libs.parsers.TextReader._tokenize_rows\u001b[0;34m()\u001b[0m\n",
      "\u001b[0;32m~/Programms/anaconda/lib/python3.9/site-packages/pandas/_libs/parsers.pyx\u001b[0m in \u001b[0;36mpandas._libs.parsers.raise_parser_error\u001b[0;34m()\u001b[0m\n",
      "\u001b[0;31mParserError\u001b[0m: Error tokenizing data. C error: Expected 1 fields in line 15, saw 4\n"
     ]
    }
   ],
   "source": [
    "dh=pd.read_csv(r'/home/frederic/Documents/Python/SDG/Github Clone/Python-Public/TEST_OCR/2042_3926_Conso_text.txt',header=None)"
   ]
  },
  {
   "cell_type": "code",
   "execution_count": null,
   "id": "dfcdc183-a2ae-4e15-ba02-445b7abd9b0b",
   "metadata": {},
   "outputs": [],
   "source": []
  }
 ],
 "metadata": {
  "kernelspec": {
   "display_name": "Python 3 (ipykernel)",
   "language": "python",
   "name": "python3"
  },
  "language_info": {
   "codemirror_mode": {
    "name": "ipython",
    "version": 3
   },
   "file_extension": ".py",
   "mimetype": "text/x-python",
   "name": "python",
   "nbconvert_exporter": "python",
   "pygments_lexer": "ipython3",
   "version": "3.9.15"
  }
 },
 "nbformat": 4,
 "nbformat_minor": 5
}
